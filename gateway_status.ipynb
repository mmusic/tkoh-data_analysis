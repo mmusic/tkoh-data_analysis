{
 "cells": [
  {
   "cell_type": "code",
   "execution_count": null,
   "metadata": {},
   "outputs": [],
   "source": [
    "import pandas as pd\n",
    "data = pd.read_csv('bl-202302.csv')"
   ]
  },
  {
   "cell_type": "code",
   "execution_count": null,
   "metadata": {},
   "outputs": [],
   "source": [
    "sensor_head = 'BL-'\n",
    "se = []\n",
    "i = 1\n",
    "while i < 44:\n",
    "    id = str(i)\n",
    "    if i < 10:\n",
    "        id = '0'+id\n",
    "    # print(sensor_head + id)\n",
    "    se.append(sensor_head + id)\n",
    "    i += 1\n",
    "\n",
    "sts = 1677513600\n",
    "sts = 1677600000\n",
    "i = 0\n",
    "report = []\n",
    "while i < 30:\n",
    "    daily_data = data[(data.ts > (sts + i*60*60*24)) & (data.ts < (sts + (i+1)*60*60*24))]\n",
    "    sensors = data['sensor_label'].drop_duplicates(keep='first')\n",
    "    res = []\n",
    "    for gateway in se:\n",
    "        if gateway in sensors.values:\n",
    "            res.append(1)\n",
    "        else:\n",
    "            res.append(0)\n",
    "    report.append(res)\n",
    "    # print(sensors.shape, daily_data.shape, ts2date((sts + (i+0)*60*60*24)), ts2date((sts + (i+1)*60*60*24)))\n",
    "    i += 1\n",
    "    break"
   ]
  },
  {
   "cell_type": "code",
   "execution_count": null,
   "metadata": {},
   "outputs": [],
   "source": [
    "report_dp = pd.DataFrame(report)\n",
    "report_dp.columns = se\n",
    "report_dp"
   ]
  },
  {
   "cell_type": "code",
   "execution_count": null,
   "metadata": {},
   "outputs": [],
   "source": [
    "report_dp.to_csv('20230228.csv')"
   ]
  }
 ],
 "metadata": {
  "kernelspec": {
   "display_name": "venv",
   "language": "python",
   "name": "python3"
  },
  "language_info": {
   "name": "python",
   "version": "3.10.7"
  },
  "orig_nbformat": 4,
  "vscode": {
   "interpreter": {
    "hash": "c960b1b01d2fdc7178bbf543aa431067abfe11bf49c62cf8badbf8afe42fad79"
   }
  }
 },
 "nbformat": 4,
 "nbformat_minor": 2
}
